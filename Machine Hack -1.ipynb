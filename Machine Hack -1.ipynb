{
 "cells": [
  {
   "cell_type": "code",
   "execution_count": 89,
   "metadata": {
    "_cell_guid": "b1076dfc-b9ad-4769-8c92-a6c4dae69d19",
    "_uuid": "8f2839f25d086af736a60e9eeb907d3b93b6e0e5"
   },
   "outputs": [],
   "source": [
    "# This Python 3 environment comes with many helpful analytics libraries installed\n",
    "# It is defined by the kaggle/python Docker image: https://github.com/kaggle/docker-python\n",
    "# For example, here's several helpful packages to load\n",
    "\n",
    "#import numpy as np # linear algebra\n",
    "#import pandas as pd # data processing, CSV file I/O (e.g. pd.read_csv)\n",
    "\n",
    "# Input data files are available in the read-only \"../input/\" directory\n",
    "# For example, running this (by clicking run or pressing Shift+Enter) will list all files under the input directory\n",
    "\n",
    "#import os\n",
    "#for dirname, _, filenames in os.walk('/kaggle/input'):\n",
    "  #  for filename in filenames:\n",
    "    #    print(os.path.join(dirname, filename))\n",
    "\n",
    "# You can write up to 20GB to the current directory (/kaggle/working/) that gets preserved as output when you create a version using \"Save & Run All\" \n",
    "# You can also write temporary files to /kaggle/temp/, but they won't be saved outside of the current session"
   ]
  },
  {
   "cell_type": "code",
   "execution_count": null,
   "metadata": {},
   "outputs": [],
   "source": []
  },
  {
   "cell_type": "code",
   "execution_count": 90,
   "metadata": {
    "_cell_guid": "79c7e3d0-c299-4dcb-8224-4455121ee9b0",
    "_uuid": "d629ff2d2480ee46fbb7e2d37f6b5fab8052498a"
   },
   "outputs": [],
   "source": [
    "import pandas as pd\n",
    "import numpy as np\n",
    "from matplotlib import pyplot as plt\n",
    "import seaborn as sns\n",
    "\n",
    "from sklearn.model_selection import GridSearchCV,KFold\n",
    "from sklearn.model_selection import train_test_split\n",
    "from sklearn.preprocessing import LabelEncoder , OneHotEncoder \n",
    "from sklearn.metrics import mean_squared_log_error\n",
    "\n",
    "# np.sqrt(mean_squared_log_error(actual, predicted))\n",
    "\n",
    "import xgboost as xgb"
   ]
  },
  {
   "cell_type": "code",
   "execution_count": 91,
   "metadata": {},
   "outputs": [],
   "source": [
    "train_df =  pd.read_csv('Train.csv')\n",
    "test_df = pd.read_csv('Test.csv')"
   ]
  },
  {
   "cell_type": "code",
   "execution_count": 92,
   "metadata": {},
   "outputs": [],
   "source": [
    "from pycaret.regression import *"
   ]
  },
  {
   "cell_type": "code",
   "execution_count": 93,
   "metadata": {},
   "outputs": [],
   "source": [
    "#exp_reg101 = setup(data = train_df, target = 'time_spent', session_id=123,remove_outliers=True) "
   ]
  },
  {
   "cell_type": "code",
   "execution_count": 94,
   "metadata": {},
   "outputs": [],
   "source": [
    "#compare_models()"
   ]
  },
  {
   "cell_type": "code",
   "execution_count": 95,
   "metadata": {},
   "outputs": [
    {
     "data": {
      "text/html": [
       "<div>\n",
       "<style scoped>\n",
       "    .dataframe tbody tr th:only-of-type {\n",
       "        vertical-align: middle;\n",
       "    }\n",
       "\n",
       "    .dataframe tbody tr th {\n",
       "        vertical-align: top;\n",
       "    }\n",
       "\n",
       "    .dataframe thead th {\n",
       "        text-align: right;\n",
       "    }\n",
       "</style>\n",
       "<table border=\"1\" class=\"dataframe\">\n",
       "  <thead>\n",
       "    <tr style=\"text-align: right;\">\n",
       "      <th></th>\n",
       "      <th>session_id</th>\n",
       "      <th>session_number</th>\n",
       "      <th>client_agent</th>\n",
       "      <th>device_details</th>\n",
       "      <th>date</th>\n",
       "      <th>purchased</th>\n",
       "      <th>added_in_cart</th>\n",
       "      <th>checked_out</th>\n",
       "      <th>time_spent</th>\n",
       "    </tr>\n",
       "  </thead>\n",
       "  <tbody>\n",
       "    <tr>\n",
       "      <th>0</th>\n",
       "      <td>57f879e70d3c5fc2a98102d64c9fd84e</td>\n",
       "      <td>715</td>\n",
       "      <td>Mozilla/5.0 (Windows NT 6.1; WOW64) AppleWebKi...</td>\n",
       "      <td>Desktop - Chrome</td>\n",
       "      <td>2020-01-22</td>\n",
       "      <td>1</td>\n",
       "      <td>0</td>\n",
       "      <td>0</td>\n",
       "      <td>236.886</td>\n",
       "    </tr>\n",
       "    <tr>\n",
       "      <th>1</th>\n",
       "      <td>a5442b0c7c33d0a811e7661e556b2de8</td>\n",
       "      <td>55</td>\n",
       "      <td>Product/8.0 iPhone/8.1.3</td>\n",
       "      <td>iPhone - iOS</td>\n",
       "      <td>2020-02-27</td>\n",
       "      <td>1</td>\n",
       "      <td>0</td>\n",
       "      <td>0</td>\n",
       "      <td>1277.455</td>\n",
       "    </tr>\n",
       "    <tr>\n",
       "      <th>2</th>\n",
       "      <td>305cb1486ed8610c00b37007926cb2c4</td>\n",
       "      <td>11</td>\n",
       "      <td>Mozilla/5.0 (iPhone; CPU iPhone OS 7_1_2 like ...</td>\n",
       "      <td>iPhone - MobileWeb</td>\n",
       "      <td>2019-08-01</td>\n",
       "      <td>0</td>\n",
       "      <td>0</td>\n",
       "      <td>0</td>\n",
       "      <td>21.704</td>\n",
       "    </tr>\n",
       "    <tr>\n",
       "      <th>3</th>\n",
       "      <td>f2c1ecc9993f0071df91ba178450498c</td>\n",
       "      <td>2794</td>\n",
       "      <td>Mozilla/5.0 (compatible; MSIE 9.0; Windows NT ...</td>\n",
       "      <td>Desktop - IE</td>\n",
       "      <td>2019-12-30</td>\n",
       "      <td>0</td>\n",
       "      <td>1</td>\n",
       "      <td>0</td>\n",
       "      <td>455.201</td>\n",
       "    </tr>\n",
       "    <tr>\n",
       "      <th>4</th>\n",
       "      <td>e460830ae295e55d2216ebdc761ab9a6</td>\n",
       "      <td>3674</td>\n",
       "      <td>Mozilla/5.0 (iPhone; CPU iPhone OS 7_1_1 like ...</td>\n",
       "      <td>iPhone - Web</td>\n",
       "      <td>2019-09-10</td>\n",
       "      <td>0</td>\n",
       "      <td>0</td>\n",
       "      <td>0</td>\n",
       "      <td>1164.877</td>\n",
       "    </tr>\n",
       "  </tbody>\n",
       "</table>\n",
       "</div>"
      ],
      "text/plain": [
       "                         session_id  session_number  \\\n",
       "0  57f879e70d3c5fc2a98102d64c9fd84e             715   \n",
       "1  a5442b0c7c33d0a811e7661e556b2de8              55   \n",
       "2  305cb1486ed8610c00b37007926cb2c4              11   \n",
       "3  f2c1ecc9993f0071df91ba178450498c            2794   \n",
       "4  e460830ae295e55d2216ebdc761ab9a6            3674   \n",
       "\n",
       "                                        client_agent      device_details  \\\n",
       "0  Mozilla/5.0 (Windows NT 6.1; WOW64) AppleWebKi...    Desktop - Chrome   \n",
       "1                           Product/8.0 iPhone/8.1.3        iPhone - iOS   \n",
       "2  Mozilla/5.0 (iPhone; CPU iPhone OS 7_1_2 like ...  iPhone - MobileWeb   \n",
       "3  Mozilla/5.0 (compatible; MSIE 9.0; Windows NT ...        Desktop - IE   \n",
       "4  Mozilla/5.0 (iPhone; CPU iPhone OS 7_1_1 like ...        iPhone - Web   \n",
       "\n",
       "         date  purchased  added_in_cart  checked_out  time_spent  \n",
       "0  2020-01-22          1              0            0     236.886  \n",
       "1  2020-02-27          1              0            0    1277.455  \n",
       "2  2019-08-01          0              0            0      21.704  \n",
       "3  2019-12-30          0              1            0     455.201  \n",
       "4  2019-09-10          0              0            0    1164.877  "
      ]
     },
     "execution_count": 95,
     "metadata": {},
     "output_type": "execute_result"
    }
   ],
   "source": [
    "train_df.head()"
   ]
  },
  {
   "cell_type": "code",
   "execution_count": 96,
   "metadata": {},
   "outputs": [
    {
     "data": {
      "text/html": [
       "<div>\n",
       "<style scoped>\n",
       "    .dataframe tbody tr th:only-of-type {\n",
       "        vertical-align: middle;\n",
       "    }\n",
       "\n",
       "    .dataframe tbody tr th {\n",
       "        vertical-align: top;\n",
       "    }\n",
       "\n",
       "    .dataframe thead th {\n",
       "        text-align: right;\n",
       "    }\n",
       "</style>\n",
       "<table border=\"1\" class=\"dataframe\">\n",
       "  <thead>\n",
       "    <tr style=\"text-align: right;\">\n",
       "      <th></th>\n",
       "      <th>session_id</th>\n",
       "      <th>session_number</th>\n",
       "      <th>client_agent</th>\n",
       "      <th>device_details</th>\n",
       "      <th>date</th>\n",
       "      <th>purchased</th>\n",
       "      <th>added_in_cart</th>\n",
       "      <th>checked_out</th>\n",
       "    </tr>\n",
       "  </thead>\n",
       "  <tbody>\n",
       "    <tr>\n",
       "      <th>0</th>\n",
       "      <td>0bf72b05b2cf70dc5e28c3c09f9c4f97</td>\n",
       "      <td>99</td>\n",
       "      <td>Mozilla/5.0 (Windows NT 6.1; WOW64; Trident/7....</td>\n",
       "      <td>Desktop - IE</td>\n",
       "      <td>2020-01-07</td>\n",
       "      <td>1</td>\n",
       "      <td>0</td>\n",
       "      <td>0</td>\n",
       "    </tr>\n",
       "    <tr>\n",
       "      <th>1</th>\n",
       "      <td>6bc696d99954e4f1367e845465186aef</td>\n",
       "      <td>935</td>\n",
       "      <td>Product/160393 Android/4.3 Device/samsung_GT-I...</td>\n",
       "      <td>Android Phone - Android</td>\n",
       "      <td>2020-02-13</td>\n",
       "      <td>0</td>\n",
       "      <td>0</td>\n",
       "      <td>0</td>\n",
       "    </tr>\n",
       "    <tr>\n",
       "      <th>2</th>\n",
       "      <td>3d8611a5ea0f621d205b67f09f663a89</td>\n",
       "      <td>902</td>\n",
       "      <td>Product/4.2.2 iPhone/7.1.2</td>\n",
       "      <td>iPhone - iOS</td>\n",
       "      <td>2019-10-14</td>\n",
       "      <td>1</td>\n",
       "      <td>0</td>\n",
       "      <td>0</td>\n",
       "    </tr>\n",
       "    <tr>\n",
       "      <th>3</th>\n",
       "      <td>a0351545c032fd0da36289410c6c3354</td>\n",
       "      <td>3223</td>\n",
       "      <td>Mozilla/5.0 (compatible; MSIE 9.0; Windows NT ...</td>\n",
       "      <td>Desktop - IE</td>\n",
       "      <td>2020-01-26</td>\n",
       "      <td>0</td>\n",
       "      <td>0</td>\n",
       "      <td>0</td>\n",
       "    </tr>\n",
       "    <tr>\n",
       "      <th>4</th>\n",
       "      <td>dd8999772b0ab27225fb05e5df2f1da6</td>\n",
       "      <td>231</td>\n",
       "      <td>Mozilla/5.0 (Windows NT 6.3; WOW64) AppleWebKi...</td>\n",
       "      <td>Desktop - Chrome</td>\n",
       "      <td>2020-01-29</td>\n",
       "      <td>0</td>\n",
       "      <td>0</td>\n",
       "      <td>0</td>\n",
       "    </tr>\n",
       "  </tbody>\n",
       "</table>\n",
       "</div>"
      ],
      "text/plain": [
       "                         session_id  session_number  \\\n",
       "0  0bf72b05b2cf70dc5e28c3c09f9c4f97              99   \n",
       "1  6bc696d99954e4f1367e845465186aef             935   \n",
       "2  3d8611a5ea0f621d205b67f09f663a89             902   \n",
       "3  a0351545c032fd0da36289410c6c3354            3223   \n",
       "4  dd8999772b0ab27225fb05e5df2f1da6             231   \n",
       "\n",
       "                                        client_agent           device_details  \\\n",
       "0  Mozilla/5.0 (Windows NT 6.1; WOW64; Trident/7....             Desktop - IE   \n",
       "1  Product/160393 Android/4.3 Device/samsung_GT-I...  Android Phone - Android   \n",
       "2                         Product/4.2.2 iPhone/7.1.2             iPhone - iOS   \n",
       "3  Mozilla/5.0 (compatible; MSIE 9.0; Windows NT ...             Desktop - IE   \n",
       "4  Mozilla/5.0 (Windows NT 6.3; WOW64) AppleWebKi...         Desktop - Chrome   \n",
       "\n",
       "         date  purchased  added_in_cart  checked_out  \n",
       "0  2020-01-07          1              0            0  \n",
       "1  2020-02-13          0              0            0  \n",
       "2  2019-10-14          1              0            0  \n",
       "3  2020-01-26          0              0            0  \n",
       "4  2020-01-29          0              0            0  "
      ]
     },
     "execution_count": 96,
     "metadata": {},
     "output_type": "execute_result"
    }
   ],
   "source": [
    "test_df.head()"
   ]
  },
  {
   "cell_type": "code",
   "execution_count": 97,
   "metadata": {},
   "outputs": [
    {
     "data": {
      "text/plain": [
       "True"
      ]
     },
     "execution_count": 97,
     "metadata": {},
     "output_type": "execute_result"
    }
   ],
   "source": [
    "len(pd.unique(train_df['session_id']))==len(train_df)"
   ]
  },
  {
   "cell_type": "code",
   "execution_count": 98,
   "metadata": {},
   "outputs": [],
   "source": [
    "train = train_df.copy()\n",
    "test = test_df.copy()"
   ]
  },
  {
   "cell_type": "markdown",
   "metadata": {},
   "source": [
    "# **BASIC EDA**"
   ]
  },
  {
   "cell_type": "code",
   "execution_count": 99,
   "metadata": {},
   "outputs": [],
   "source": [
    "train = train.drop(labels=['session_id','client_agent'],axis = 1)\n",
    "test = test.drop(labels=['session_id','client_agent'],axis = 1)"
   ]
  },
  {
   "cell_type": "code",
   "execution_count": 100,
   "metadata": {},
   "outputs": [
    {
     "data": {
      "text/plain": [
       "iPhone - iOS                  1515\n",
       "Desktop - Chrome               815\n",
       "iPhone - Web                   665\n",
       "Android Phone - Android        326\n",
       "Desktop - Safari               313\n",
       "Desktop - IE                   292\n",
       "iPad - Web                     289\n",
       "iPhone - MobileWeb             277\n",
       "Desktop - Firefox              234\n",
       "Android Tablet - Web           203\n",
       "Other - Other                  185\n",
       "Unknown - MobileWeb             87\n",
       "Android Phone - Web             86\n",
       "iPad - iOS                      77\n",
       "Android Phone - MobileWeb       54\n",
       "Android Tablet - Android         9\n",
       "Android Tablet - MobileWeb       2\n",
       "Name: device_details, dtype: int64"
      ]
     },
     "execution_count": 100,
     "metadata": {},
     "output_type": "execute_result"
    }
   ],
   "source": [
    "train['device_details'].value_counts()"
   ]
  },
  {
   "cell_type": "code",
   "execution_count": 101,
   "metadata": {},
   "outputs": [
    {
     "data": {
      "text/html": [
       "<div>\n",
       "<style scoped>\n",
       "    .dataframe tbody tr th:only-of-type {\n",
       "        vertical-align: middle;\n",
       "    }\n",
       "\n",
       "    .dataframe tbody tr th {\n",
       "        vertical-align: top;\n",
       "    }\n",
       "\n",
       "    .dataframe thead th {\n",
       "        text-align: right;\n",
       "    }\n",
       "</style>\n",
       "<table border=\"1\" class=\"dataframe\">\n",
       "  <thead>\n",
       "    <tr style=\"text-align: right;\">\n",
       "      <th></th>\n",
       "      <th>session_number</th>\n",
       "      <th>purchased</th>\n",
       "      <th>added_in_cart</th>\n",
       "      <th>checked_out</th>\n",
       "      <th>time_spent</th>\n",
       "    </tr>\n",
       "  </thead>\n",
       "  <tbody>\n",
       "    <tr>\n",
       "      <th>count</th>\n",
       "      <td>5429.000000</td>\n",
       "      <td>5429.000000</td>\n",
       "      <td>5429.000000</td>\n",
       "      <td>5429.000000</td>\n",
       "      <td>5429.000000</td>\n",
       "    </tr>\n",
       "    <tr>\n",
       "      <th>mean</th>\n",
       "      <td>1072.835329</td>\n",
       "      <td>0.159145</td>\n",
       "      <td>0.162092</td>\n",
       "      <td>0.017499</td>\n",
       "      <td>663.194292</td>\n",
       "    </tr>\n",
       "    <tr>\n",
       "      <th>std</th>\n",
       "      <td>1436.351474</td>\n",
       "      <td>0.365845</td>\n",
       "      <td>0.368570</td>\n",
       "      <td>0.131132</td>\n",
       "      <td>1713.671664</td>\n",
       "    </tr>\n",
       "    <tr>\n",
       "      <th>min</th>\n",
       "      <td>11.000000</td>\n",
       "      <td>0.000000</td>\n",
       "      <td>0.000000</td>\n",
       "      <td>0.000000</td>\n",
       "      <td>14.400000</td>\n",
       "    </tr>\n",
       "    <tr>\n",
       "      <th>25%</th>\n",
       "      <td>121.000000</td>\n",
       "      <td>0.000000</td>\n",
       "      <td>0.000000</td>\n",
       "      <td>0.000000</td>\n",
       "      <td>22.699000</td>\n",
       "    </tr>\n",
       "    <tr>\n",
       "      <th>50%</th>\n",
       "      <td>517.000000</td>\n",
       "      <td>0.000000</td>\n",
       "      <td>0.000000</td>\n",
       "      <td>0.000000</td>\n",
       "      <td>98.312000</td>\n",
       "    </tr>\n",
       "    <tr>\n",
       "      <th>75%</th>\n",
       "      <td>1397.000000</td>\n",
       "      <td>0.000000</td>\n",
       "      <td>0.000000</td>\n",
       "      <td>0.000000</td>\n",
       "      <td>600.463000</td>\n",
       "    </tr>\n",
       "    <tr>\n",
       "      <th>max</th>\n",
       "      <td>7722.000000</td>\n",
       "      <td>1.000000</td>\n",
       "      <td>1.000000</td>\n",
       "      <td>1.000000</td>\n",
       "      <td>38494.025000</td>\n",
       "    </tr>\n",
       "  </tbody>\n",
       "</table>\n",
       "</div>"
      ],
      "text/plain": [
       "       session_number    purchased  added_in_cart  checked_out    time_spent\n",
       "count     5429.000000  5429.000000    5429.000000  5429.000000   5429.000000\n",
       "mean      1072.835329     0.159145       0.162092     0.017499    663.194292\n",
       "std       1436.351474     0.365845       0.368570     0.131132   1713.671664\n",
       "min         11.000000     0.000000       0.000000     0.000000     14.400000\n",
       "25%        121.000000     0.000000       0.000000     0.000000     22.699000\n",
       "50%        517.000000     0.000000       0.000000     0.000000     98.312000\n",
       "75%       1397.000000     0.000000       0.000000     0.000000    600.463000\n",
       "max       7722.000000     1.000000       1.000000     1.000000  38494.025000"
      ]
     },
     "execution_count": 101,
     "metadata": {},
     "output_type": "execute_result"
    }
   ],
   "source": [
    "train.describe()"
   ]
  },
  {
   "cell_type": "code",
   "execution_count": 102,
   "metadata": {},
   "outputs": [
    {
     "data": {
      "text/plain": [
       "11      437\n",
       "22      192\n",
       "33      132\n",
       "44      101\n",
       "55       93\n",
       "       ... \n",
       "3949      1\n",
       "3696      1\n",
       "5962      1\n",
       "7601      1\n",
       "6083      1\n",
       "Name: session_number, Length: 610, dtype: int64"
      ]
     },
     "execution_count": 102,
     "metadata": {},
     "output_type": "execute_result"
    }
   ],
   "source": [
    "train['session_number'].value_counts()"
   ]
  },
  {
   "cell_type": "code",
   "execution_count": 103,
   "metadata": {},
   "outputs": [],
   "source": [
    "train[\"date\"] = pd.to_datetime(train['date'])\n",
    "test[\"date\"] = pd.to_datetime(test['date'])\n",
    "\n",
    "train[\"year\"] = train['date'].dt.year\n",
    "test[\"year\"] = test['date'].dt.year\n",
    "\n",
    "train[\"month\"] = train['date'].dt.month\n",
    "test[\"month\"] = test['date'].dt.month\n",
    "\n",
    "train['day']= train['date'].dt.day\n",
    "test[\"day\"] = test['date'].dt.day\n",
    "\n",
    "train['diff_date'] = ((train['date'] - pd.datetime(1970,1,1)).dt.total_seconds())/(10**6)\n",
    "test['diff_date'] = ((test['date'] - pd.datetime(1970,1,1)).dt.total_seconds())/(10**6)"
   ]
  },
  {
   "cell_type": "code",
   "execution_count": 104,
   "metadata": {},
   "outputs": [
    {
     "data": {
      "text/html": [
       "<div>\n",
       "<style scoped>\n",
       "    .dataframe tbody tr th:only-of-type {\n",
       "        vertical-align: middle;\n",
       "    }\n",
       "\n",
       "    .dataframe tbody tr th {\n",
       "        vertical-align: top;\n",
       "    }\n",
       "\n",
       "    .dataframe thead th {\n",
       "        text-align: right;\n",
       "    }\n",
       "</style>\n",
       "<table border=\"1\" class=\"dataframe\">\n",
       "  <thead>\n",
       "    <tr style=\"text-align: right;\">\n",
       "      <th></th>\n",
       "      <th>session_number</th>\n",
       "      <th>device_details</th>\n",
       "      <th>date</th>\n",
       "      <th>purchased</th>\n",
       "      <th>added_in_cart</th>\n",
       "      <th>checked_out</th>\n",
       "      <th>time_spent</th>\n",
       "      <th>year</th>\n",
       "      <th>month</th>\n",
       "      <th>day</th>\n",
       "      <th>diff_date</th>\n",
       "    </tr>\n",
       "  </thead>\n",
       "  <tbody>\n",
       "    <tr>\n",
       "      <th>0</th>\n",
       "      <td>715</td>\n",
       "      <td>Desktop - Chrome</td>\n",
       "      <td>2020-01-22</td>\n",
       "      <td>1</td>\n",
       "      <td>0</td>\n",
       "      <td>0</td>\n",
       "      <td>236.886</td>\n",
       "      <td>2020</td>\n",
       "      <td>1</td>\n",
       "      <td>22</td>\n",
       "      <td>1579.6512</td>\n",
       "    </tr>\n",
       "    <tr>\n",
       "      <th>1</th>\n",
       "      <td>55</td>\n",
       "      <td>iPhone - iOS</td>\n",
       "      <td>2020-02-27</td>\n",
       "      <td>1</td>\n",
       "      <td>0</td>\n",
       "      <td>0</td>\n",
       "      <td>1277.455</td>\n",
       "      <td>2020</td>\n",
       "      <td>2</td>\n",
       "      <td>27</td>\n",
       "      <td>1582.7616</td>\n",
       "    </tr>\n",
       "    <tr>\n",
       "      <th>2</th>\n",
       "      <td>11</td>\n",
       "      <td>iPhone - MobileWeb</td>\n",
       "      <td>2019-08-01</td>\n",
       "      <td>0</td>\n",
       "      <td>0</td>\n",
       "      <td>0</td>\n",
       "      <td>21.704</td>\n",
       "      <td>2019</td>\n",
       "      <td>8</td>\n",
       "      <td>1</td>\n",
       "      <td>1564.6176</td>\n",
       "    </tr>\n",
       "    <tr>\n",
       "      <th>3</th>\n",
       "      <td>2794</td>\n",
       "      <td>Desktop - IE</td>\n",
       "      <td>2019-12-30</td>\n",
       "      <td>0</td>\n",
       "      <td>1</td>\n",
       "      <td>0</td>\n",
       "      <td>455.201</td>\n",
       "      <td>2019</td>\n",
       "      <td>12</td>\n",
       "      <td>30</td>\n",
       "      <td>1577.6640</td>\n",
       "    </tr>\n",
       "    <tr>\n",
       "      <th>4</th>\n",
       "      <td>3674</td>\n",
       "      <td>iPhone - Web</td>\n",
       "      <td>2019-09-10</td>\n",
       "      <td>0</td>\n",
       "      <td>0</td>\n",
       "      <td>0</td>\n",
       "      <td>1164.877</td>\n",
       "      <td>2019</td>\n",
       "      <td>9</td>\n",
       "      <td>10</td>\n",
       "      <td>1568.0736</td>\n",
       "    </tr>\n",
       "  </tbody>\n",
       "</table>\n",
       "</div>"
      ],
      "text/plain": [
       "   session_number      device_details       date  purchased  added_in_cart  \\\n",
       "0             715    Desktop - Chrome 2020-01-22          1              0   \n",
       "1              55        iPhone - iOS 2020-02-27          1              0   \n",
       "2              11  iPhone - MobileWeb 2019-08-01          0              0   \n",
       "3            2794        Desktop - IE 2019-12-30          0              1   \n",
       "4            3674        iPhone - Web 2019-09-10          0              0   \n",
       "\n",
       "   checked_out  time_spent  year  month  day  diff_date  \n",
       "0            0     236.886  2020      1   22  1579.6512  \n",
       "1            0    1277.455  2020      2   27  1582.7616  \n",
       "2            0      21.704  2019      8    1  1564.6176  \n",
       "3            0     455.201  2019     12   30  1577.6640  \n",
       "4            0    1164.877  2019      9   10  1568.0736  "
      ]
     },
     "execution_count": 104,
     "metadata": {},
     "output_type": "execute_result"
    }
   ],
   "source": [
    "train.head()"
   ]
  },
  {
   "cell_type": "code",
   "execution_count": 105,
   "metadata": {},
   "outputs": [
    {
     "name": "stdout",
     "output_type": "stream",
     "text": [
      "{'Desktop - Chrome': 0, 'iPhone - iOS': 1, 'iPhone - MobileWeb': 2, 'Desktop - IE': 3, 'iPhone - Web': 4, 'Android Phone - Android': 5, 'Desktop - Firefox': 6, 'Android Tablet - Web': 7, 'iPad - Web': 8, 'Other - Other': 9, 'Desktop - Safari': 10, 'Android Phone - Web': 11, 'iPad - iOS': 12, 'Android Phone - MobileWeb': 13, 'Unknown - MobileWeb': 14, 'Android Tablet - Android': 15, 'Android Tablet - MobileWeb': 16}\n"
     ]
    }
   ],
   "source": [
    "l = pd.unique(train[\"device_details\"])\n",
    "device_encoding = {}\n",
    "x = 0\n",
    "for i in l:\n",
    "    if i not in device_encoding:\n",
    "        device_encoding[i] = x\n",
    "        x+=1\n",
    "print(device_encoding)\n",
    "\n",
    "train[\"device_encoding\"] = train[\"device_details\"].map(device_encoding)\n",
    "test[\"device_encoding\"] = test[\"device_details\"].map(device_encoding)"
   ]
  },
  {
   "cell_type": "code",
   "execution_count": 106,
   "metadata": {},
   "outputs": [
    {
     "data": {
      "text/html": [
       "<div>\n",
       "<style scoped>\n",
       "    .dataframe tbody tr th:only-of-type {\n",
       "        vertical-align: middle;\n",
       "    }\n",
       "\n",
       "    .dataframe tbody tr th {\n",
       "        vertical-align: top;\n",
       "    }\n",
       "\n",
       "    .dataframe thead th {\n",
       "        text-align: right;\n",
       "    }\n",
       "</style>\n",
       "<table border=\"1\" class=\"dataframe\">\n",
       "  <thead>\n",
       "    <tr style=\"text-align: right;\">\n",
       "      <th></th>\n",
       "      <th>session_number</th>\n",
       "      <th>device_details</th>\n",
       "      <th>date</th>\n",
       "      <th>purchased</th>\n",
       "      <th>added_in_cart</th>\n",
       "      <th>checked_out</th>\n",
       "      <th>time_spent</th>\n",
       "      <th>year</th>\n",
       "      <th>month</th>\n",
       "      <th>day</th>\n",
       "      <th>diff_date</th>\n",
       "      <th>device_encoding</th>\n",
       "    </tr>\n",
       "  </thead>\n",
       "  <tbody>\n",
       "    <tr>\n",
       "      <th>0</th>\n",
       "      <td>715</td>\n",
       "      <td>Desktop - Chrome</td>\n",
       "      <td>2020-01-22</td>\n",
       "      <td>1</td>\n",
       "      <td>0</td>\n",
       "      <td>0</td>\n",
       "      <td>236.886</td>\n",
       "      <td>2020</td>\n",
       "      <td>1</td>\n",
       "      <td>22</td>\n",
       "      <td>1579.6512</td>\n",
       "      <td>0</td>\n",
       "    </tr>\n",
       "    <tr>\n",
       "      <th>1</th>\n",
       "      <td>55</td>\n",
       "      <td>iPhone - iOS</td>\n",
       "      <td>2020-02-27</td>\n",
       "      <td>1</td>\n",
       "      <td>0</td>\n",
       "      <td>0</td>\n",
       "      <td>1277.455</td>\n",
       "      <td>2020</td>\n",
       "      <td>2</td>\n",
       "      <td>27</td>\n",
       "      <td>1582.7616</td>\n",
       "      <td>1</td>\n",
       "    </tr>\n",
       "    <tr>\n",
       "      <th>2</th>\n",
       "      <td>11</td>\n",
       "      <td>iPhone - MobileWeb</td>\n",
       "      <td>2019-08-01</td>\n",
       "      <td>0</td>\n",
       "      <td>0</td>\n",
       "      <td>0</td>\n",
       "      <td>21.704</td>\n",
       "      <td>2019</td>\n",
       "      <td>8</td>\n",
       "      <td>1</td>\n",
       "      <td>1564.6176</td>\n",
       "      <td>2</td>\n",
       "    </tr>\n",
       "    <tr>\n",
       "      <th>3</th>\n",
       "      <td>2794</td>\n",
       "      <td>Desktop - IE</td>\n",
       "      <td>2019-12-30</td>\n",
       "      <td>0</td>\n",
       "      <td>1</td>\n",
       "      <td>0</td>\n",
       "      <td>455.201</td>\n",
       "      <td>2019</td>\n",
       "      <td>12</td>\n",
       "      <td>30</td>\n",
       "      <td>1577.6640</td>\n",
       "      <td>3</td>\n",
       "    </tr>\n",
       "    <tr>\n",
       "      <th>4</th>\n",
       "      <td>3674</td>\n",
       "      <td>iPhone - Web</td>\n",
       "      <td>2019-09-10</td>\n",
       "      <td>0</td>\n",
       "      <td>0</td>\n",
       "      <td>0</td>\n",
       "      <td>1164.877</td>\n",
       "      <td>2019</td>\n",
       "      <td>9</td>\n",
       "      <td>10</td>\n",
       "      <td>1568.0736</td>\n",
       "      <td>4</td>\n",
       "    </tr>\n",
       "  </tbody>\n",
       "</table>\n",
       "</div>"
      ],
      "text/plain": [
       "   session_number      device_details       date  purchased  added_in_cart  \\\n",
       "0             715    Desktop - Chrome 2020-01-22          1              0   \n",
       "1              55        iPhone - iOS 2020-02-27          1              0   \n",
       "2              11  iPhone - MobileWeb 2019-08-01          0              0   \n",
       "3            2794        Desktop - IE 2019-12-30          0              1   \n",
       "4            3674        iPhone - Web 2019-09-10          0              0   \n",
       "\n",
       "   checked_out  time_spent  year  month  day  diff_date  device_encoding  \n",
       "0            0     236.886  2020      1   22  1579.6512                0  \n",
       "1            0    1277.455  2020      2   27  1582.7616                1  \n",
       "2            0      21.704  2019      8    1  1564.6176                2  \n",
       "3            0     455.201  2019     12   30  1577.6640                3  \n",
       "4            0    1164.877  2019      9   10  1568.0736                4  "
      ]
     },
     "execution_count": 106,
     "metadata": {},
     "output_type": "execute_result"
    }
   ],
   "source": [
    "train.head()"
   ]
  },
  {
   "cell_type": "code",
   "execution_count": 107,
   "metadata": {},
   "outputs": [
    {
     "data": {
      "text/html": [
       "<div>\n",
       "<style scoped>\n",
       "    .dataframe tbody tr th:only-of-type {\n",
       "        vertical-align: middle;\n",
       "    }\n",
       "\n",
       "    .dataframe tbody tr th {\n",
       "        vertical-align: top;\n",
       "    }\n",
       "\n",
       "    .dataframe thead th {\n",
       "        text-align: right;\n",
       "    }\n",
       "</style>\n",
       "<table border=\"1\" class=\"dataframe\">\n",
       "  <thead>\n",
       "    <tr style=\"text-align: right;\">\n",
       "      <th></th>\n",
       "      <th>session_number</th>\n",
       "      <th>device_details</th>\n",
       "      <th>date</th>\n",
       "      <th>purchased</th>\n",
       "      <th>added_in_cart</th>\n",
       "      <th>checked_out</th>\n",
       "      <th>time_spent</th>\n",
       "      <th>year</th>\n",
       "      <th>month</th>\n",
       "      <th>day</th>\n",
       "      <th>diff_date</th>\n",
       "      <th>device_encoding</th>\n",
       "    </tr>\n",
       "  </thead>\n",
       "  <tbody>\n",
       "    <tr>\n",
       "      <th>0</th>\n",
       "      <td>715</td>\n",
       "      <td>Desktop - Chrome</td>\n",
       "      <td>2020-01-22</td>\n",
       "      <td>1</td>\n",
       "      <td>0</td>\n",
       "      <td>0</td>\n",
       "      <td>236.886</td>\n",
       "      <td>2020</td>\n",
       "      <td>1</td>\n",
       "      <td>22</td>\n",
       "      <td>1579.6512</td>\n",
       "      <td>0</td>\n",
       "    </tr>\n",
       "    <tr>\n",
       "      <th>1</th>\n",
       "      <td>55</td>\n",
       "      <td>iPhone - iOS</td>\n",
       "      <td>2020-02-27</td>\n",
       "      <td>1</td>\n",
       "      <td>0</td>\n",
       "      <td>0</td>\n",
       "      <td>1277.455</td>\n",
       "      <td>2020</td>\n",
       "      <td>2</td>\n",
       "      <td>27</td>\n",
       "      <td>1582.7616</td>\n",
       "      <td>1</td>\n",
       "    </tr>\n",
       "    <tr>\n",
       "      <th>2</th>\n",
       "      <td>11</td>\n",
       "      <td>iPhone - MobileWeb</td>\n",
       "      <td>2019-08-01</td>\n",
       "      <td>0</td>\n",
       "      <td>0</td>\n",
       "      <td>0</td>\n",
       "      <td>21.704</td>\n",
       "      <td>2019</td>\n",
       "      <td>8</td>\n",
       "      <td>1</td>\n",
       "      <td>1564.6176</td>\n",
       "      <td>2</td>\n",
       "    </tr>\n",
       "    <tr>\n",
       "      <th>3</th>\n",
       "      <td>2794</td>\n",
       "      <td>Desktop - IE</td>\n",
       "      <td>2019-12-30</td>\n",
       "      <td>0</td>\n",
       "      <td>1</td>\n",
       "      <td>0</td>\n",
       "      <td>455.201</td>\n",
       "      <td>2019</td>\n",
       "      <td>12</td>\n",
       "      <td>30</td>\n",
       "      <td>1577.6640</td>\n",
       "      <td>3</td>\n",
       "    </tr>\n",
       "    <tr>\n",
       "      <th>4</th>\n",
       "      <td>3674</td>\n",
       "      <td>iPhone - Web</td>\n",
       "      <td>2019-09-10</td>\n",
       "      <td>0</td>\n",
       "      <td>0</td>\n",
       "      <td>0</td>\n",
       "      <td>1164.877</td>\n",
       "      <td>2019</td>\n",
       "      <td>9</td>\n",
       "      <td>10</td>\n",
       "      <td>1568.0736</td>\n",
       "      <td>4</td>\n",
       "    </tr>\n",
       "  </tbody>\n",
       "</table>\n",
       "</div>"
      ],
      "text/plain": [
       "   session_number      device_details       date  purchased  added_in_cart  \\\n",
       "0             715    Desktop - Chrome 2020-01-22          1              0   \n",
       "1              55        iPhone - iOS 2020-02-27          1              0   \n",
       "2              11  iPhone - MobileWeb 2019-08-01          0              0   \n",
       "3            2794        Desktop - IE 2019-12-30          0              1   \n",
       "4            3674        iPhone - Web 2019-09-10          0              0   \n",
       "\n",
       "   checked_out  time_spent  year  month  day  diff_date  device_encoding  \n",
       "0            0     236.886  2020      1   22  1579.6512                0  \n",
       "1            0    1277.455  2020      2   27  1582.7616                1  \n",
       "2            0      21.704  2019      8    1  1564.6176                2  \n",
       "3            0     455.201  2019     12   30  1577.6640                3  \n",
       "4            0    1164.877  2019      9   10  1568.0736                4  "
      ]
     },
     "execution_count": 107,
     "metadata": {},
     "output_type": "execute_result"
    }
   ],
   "source": [
    "train= train[pd.notnull(train[\"time_spent\"])]\n",
    "train.head()"
   ]
  },
  {
   "cell_type": "markdown",
   "metadata": {},
   "source": [
    "# **MODELLING**"
   ]
  },
  {
   "cell_type": "code",
   "execution_count": 108,
   "metadata": {},
   "outputs": [],
   "source": [
    "#! pip install pycaret"
   ]
  },
  {
   "cell_type": "code",
   "execution_count": null,
   "metadata": {},
   "outputs": [],
   "source": []
  },
  {
   "cell_type": "code",
   "execution_count": 109,
   "metadata": {},
   "outputs": [],
   "source": [
    "#from pycaret.regression import *"
   ]
  },
  {
   "cell_type": "code",
   "execution_count": 110,
   "metadata": {},
   "outputs": [],
   "source": [
    "#exp_reg101 = setup(data = train, target = 'time_spent', session_id=123,remove_outliers=True) "
   ]
  },
  {
   "cell_type": "code",
   "execution_count": 111,
   "metadata": {},
   "outputs": [],
   "source": [
    "#compare_models()"
   ]
  },
  {
   "cell_type": "code",
   "execution_count": 112,
   "metadata": {},
   "outputs": [],
   "source": [
    "#dt = create_model('huber')"
   ]
  },
  {
   "cell_type": "code",
   "execution_count": 25,
   "metadata": {},
   "outputs": [
    {
     "name": "stdout",
     "output_type": "stream",
     "text": [
      "HuberRegressor(alpha=0.0001, epsilon=1.35, fit_intercept=True, max_iter=100,\n",
      "               tol=1e-05, warm_start=False)\n"
     ]
    }
   ],
   "source": [
    "#print(dt)"
   ]
  },
  {
   "cell_type": "code",
   "execution_count": 26,
   "metadata": {},
   "outputs": [],
   "source": [
    "#tt=tune_model(dt)"
   ]
  },
  {
   "cell_type": "code",
   "execution_count": 27,
   "metadata": {},
   "outputs": [],
   "source": [
    "#final=finalize_model(tt)"
   ]
  },
  {
   "cell_type": "code",
   "execution_count": 28,
   "metadata": {},
   "outputs": [],
   "source": [
    "#ans1=predict_model(final,data=test)\n",
    "#ans1"
   ]
  },
  {
   "cell_type": "code",
   "execution_count": 29,
   "metadata": {},
   "outputs": [],
   "source": [
    "#sub02 = pd.read_csv('Sample Submission.csv')\n",
    "#sub02[\"time_spent\"]=abs(ans1)"
   ]
  },
  {
   "cell_type": "code",
   "execution_count": null,
   "metadata": {},
   "outputs": [],
   "source": []
  },
  {
   "cell_type": "markdown",
   "metadata": {},
   "source": [
    "# COls"
   ]
  },
  {
   "cell_type": "code",
   "execution_count": 113,
   "metadata": {},
   "outputs": [],
   "source": [
    "#cols = ['session_number','device_encoding','purchased','added_in_cart','checked_out','year','month','day','diff_date']\n",
    "cols = ['session_number','purchased','added_in_cart','checked_out']\n",
    "#cols=['session_number','device_encoding','purchased']\n",
    "X = train[cols]\n",
    "Y = train[\"time_spent\"].values"
   ]
  },
  {
   "cell_type": "markdown",
   "metadata": {},
   "source": [
    "# Statistics "
   ]
  },
  {
   "cell_type": "markdown",
   "metadata": {},
   "source": [
    "# Scaling"
   ]
  },
  {
   "cell_type": "code",
   "execution_count": 31,
   "metadata": {},
   "outputs": [
    {
     "data": {
      "text/plain": [
       "'Y = train.iloc[:,6].values.reshape(-1,1)\\nfrom sklearn.preprocessing import StandardScaler\\nscale=StandardScaler()\\nX=scale.fit_transform(X)\\n\\nY=scale.fit_transform(Y)'"
      ]
     },
     "execution_count": 31,
     "metadata": {},
     "output_type": "execute_result"
    }
   ],
   "source": [
    "'''Y = train.iloc[:,6].values.reshape(-1,1)\n",
    "from sklearn.preprocessing import StandardScaler\n",
    "scale=StandardScaler()\n",
    "X=scale.fit_transform(X)\n",
    "\n",
    "Y=scale.fit_transform(Y)'''"
   ]
  },
  {
   "cell_type": "code",
   "execution_count": null,
   "metadata": {},
   "outputs": [],
   "source": [
    "\n"
   ]
  },
  {
   "cell_type": "code",
   "execution_count": 32,
   "metadata": {},
   "outputs": [],
   "source": [
    "#Y\n",
    "import seaborn as sns \n",
    "\n",
    "#sns.distplot(train['purchased'],)\n",
    "#sns.boxplot(train['purchased'],orient='vertical')\n"
   ]
  },
  {
   "cell_type": "code",
   "execution_count": 114,
   "metadata": {},
   "outputs": [],
   "source": [
    "x_tr,x_tst,y_tr,y_tst = train_test_split(X,Y,test_size=0.25,random_state=0)"
   ]
  },
  {
   "cell_type": "code",
   "execution_count": 34,
   "metadata": {},
   "outputs": [
    {
     "name": "stdout",
     "output_type": "stream",
     "text": [
      "[1]\tvalidation_0-rmse:1579.62634\n",
      "[2]\tvalidation_0-rmse:1497.21509\n",
      "[4]\tvalidation_0-rmse:1393.90515\n",
      "[5]\tvalidation_0-rmse:1337.53235\n",
      "[7]\tvalidation_0-rmse:1263.91492\n",
      "[8]\tvalidation_0-rmse:1240.48413\n",
      "[10]\tvalidation_0-rmse:1208.52942\n",
      "[11]\tvalidation_0-rmse:1193.72729\n",
      "[13]\tvalidation_0-rmse:1174.22388\n",
      "[14]\tvalidation_0-rmse:1167.10913\n",
      "[16]\tvalidation_0-rmse:1155.96057\n",
      "[17]\tvalidation_0-rmse:1148.60083\n",
      "[19]\tvalidation_0-rmse:1137.93311\n",
      "[20]\tvalidation_0-rmse:1134.71387\n",
      "[22]\tvalidation_0-rmse:1128.72400\n",
      "[23]\tvalidation_0-rmse:1121.05115\n",
      "[25]\tvalidation_0-rmse:1111.64319\n",
      "[26]\tvalidation_0-rmse:1105.94983\n",
      "[28]\tvalidation_0-rmse:1097.81335\n",
      "[29]\tvalidation_0-rmse:1094.36865\n",
      "[31]\tvalidation_0-rmse:1086.96692\n",
      "[32]\tvalidation_0-rmse:1084.00317\n",
      "[34]\tvalidation_0-rmse:1074.15222\n",
      "[35]\tvalidation_0-rmse:1072.70044\n",
      "[37]\tvalidation_0-rmse:1063.58826\n",
      "[38]\tvalidation_0-rmse:1061.76404\n",
      "[40]\tvalidation_0-rmse:1057.35120\n",
      "[41]\tvalidation_0-rmse:1055.98962\n",
      "[43]\tvalidation_0-rmse:1053.20581\n",
      "[44]\tvalidation_0-rmse:1052.00085\n",
      "[46]\tvalidation_0-rmse:1045.54224\n",
      "[47]\tvalidation_0-rmse:1044.56531\n",
      "[49]\tvalidation_0-rmse:1042.33435\n",
      "[50]\tvalidation_0-rmse:1041.48657\n",
      "[52]\tvalidation_0-rmse:1039.03687\n",
      "[53]\tvalidation_0-rmse:1036.08655\n",
      "[55]\tvalidation_0-rmse:1034.00500\n",
      "[56]\tvalidation_0-rmse:1033.09973\n",
      "[58]\tvalidation_0-rmse:1030.36768\n",
      "[59]\tvalidation_0-rmse:1029.64429\n",
      "[61]\tvalidation_0-rmse:1024.98315\n",
      "[62]\tvalidation_0-rmse:1022.53802\n",
      "[64]\tvalidation_0-rmse:1019.71161\n",
      "[65]\tvalidation_0-rmse:1018.62940\n",
      "[67]\tvalidation_0-rmse:1013.09973\n",
      "[68]\tvalidation_0-rmse:1010.66608\n",
      "[70]\tvalidation_0-rmse:1008.95233\n",
      "[71]\tvalidation_0-rmse:1008.88464\n",
      "[73]\tvalidation_0-rmse:1007.96893\n",
      "[74]\tvalidation_0-rmse:1007.45441\n",
      "[76]\tvalidation_0-rmse:1003.54102\n",
      "[77]\tvalidation_0-rmse:1003.13415\n",
      "[79]\tvalidation_0-rmse:1001.18781\n",
      "[80]\tvalidation_0-rmse:1000.59070\n",
      "[82]\tvalidation_0-rmse:998.58606\n",
      "[83]\tvalidation_0-rmse:998.09161\n",
      "[85]\tvalidation_0-rmse:995.87384\n",
      "[86]\tvalidation_0-rmse:995.80078\n",
      "[88]\tvalidation_0-rmse:994.23474\n",
      "[89]\tvalidation_0-rmse:993.39795\n",
      "[91]\tvalidation_0-rmse:991.51538\n",
      "[92]\tvalidation_0-rmse:990.96027\n",
      "[94]\tvalidation_0-rmse:990.23462\n",
      "[95]\tvalidation_0-rmse:989.87146\n",
      "[97]\tvalidation_0-rmse:989.46338\n",
      "[98]\tvalidation_0-rmse:989.27496\n",
      "[99]\tvalidation_0-rmse:989.08923\n",
      "1.8938301699047773\n"
     ]
    }
   ],
   "source": [
    "xgr = xgb.XGBRegressor(booster='gbtree',n_estimators=100)\n",
    "xgr.fit(X=x_tr[cols],y=y_tr,eval_set=[(x_tr[cols],y_tr)],eval_metric=\"rmse\",verbose=3)\n",
    "ans = abs(xgr.predict(x_tst))\n",
    "score = np.sqrt(mean_squared_log_error(y_tst, ans))\n",
    "print(score)"
   ]
  },
  {
   "cell_type": "code",
   "execution_count": null,
   "metadata": {},
   "outputs": [],
   "source": []
  },
  {
   "cell_type": "code",
   "execution_count": 35,
   "metadata": {},
   "outputs": [
    {
     "name": "stdout",
     "output_type": "stream",
     "text": [
      "Fitting 10 folds for each of 12 candidates, totalling 120 fits\n"
     ]
    },
    {
     "name": "stderr",
     "output_type": "stream",
     "text": [
      "[Parallel(n_jobs=-1)]: Using backend LokyBackend with 4 concurrent workers.\n",
      "[Parallel(n_jobs=-1)]: Done  24 tasks      | elapsed:    3.3s\n",
      "[Parallel(n_jobs=-1)]: Done 120 out of 120 | elapsed:   20.1s finished\n"
     ]
    },
    {
     "name": "stdout",
     "output_type": "stream",
     "text": [
      "[20:04:41] WARNING: C:/Users/Administrator/workspace/xgboost-win64_release_1.3.0/src/learner.cc:541: \n",
      "Parameters: { silent } might not be used.\n",
      "\n",
      "  This may not be accurate due to some parameters are only used in language bindings but\n",
      "  passed down to XGBoost core.  Or some parameters are not used but slip through this\n",
      "  verification. Please open an issue if you find above cases.\n",
      "\n",
      "\n"
     ]
    },
    {
     "data": {
      "text/plain": [
       "0.13684032633540313"
      ]
     },
     "execution_count": 35,
     "metadata": {},
     "output_type": "execute_result"
    }
   ],
   "source": [
    "from sklearn.model_selection import GridSearchCV\n",
    "\n",
    "para = { #when use hyperthread, xgboost may become slower\n",
    "              'learning_rate': [0.01,.03, 0.05,0.1], #so called `eta` value\n",
    "              'max_depth': [3,4,5],\n",
    "              'min_child_weight': [4],\n",
    "              'silent': [1],\n",
    "              'subsample': [0.7],\n",
    "              'colsample_bytree': [0.7],\n",
    "              'n_estimators': [100]}\n",
    "\n",
    "xgb_grid = GridSearchCV(xgr,\n",
    "                        para,\n",
    "                        cv = 10,\n",
    "                        n_jobs = -1,\n",
    "                        verbose=3)\n",
    "xgb_grid.fit(x_tr[cols],y_tr)\n",
    "xgb_grid.best_score_ "
   ]
  },
  {
   "cell_type": "code",
   "execution_count": 36,
   "metadata": {},
   "outputs": [
    {
     "data": {
      "text/plain": [
       "1.9921907208116234"
      ]
     },
     "execution_count": 36,
     "metadata": {},
     "output_type": "execute_result"
    }
   ],
   "source": [
    "pred001=abs(xgb_grid.predict(x_tst))\n",
    "score5=np.sqrt(mean_squared_log_error(y_tst,pred001))\n",
    "score5"
   ]
  },
  {
   "cell_type": "code",
   "execution_count": 37,
   "metadata": {},
   "outputs": [],
   "source": [
    "#train.corr().time_spent"
   ]
  },
  {
   "cell_type": "code",
   "execution_count": 38,
   "metadata": {},
   "outputs": [],
   "source": [
    "#feat_importances = pd.Series(xgr.feature_importances_, index=cols)\n",
    "#feat_importances.nlargest(6).plot(kind='barh')\n",
    "#plt.show()"
   ]
  },
  {
   "cell_type": "code",
   "execution_count": 39,
   "metadata": {},
   "outputs": [],
   "source": [
    "#xgr.fit(X=X[cols],y=Y,verbose=2)\n",
    "#ans = xgr.predict(test[cols])"
   ]
  },
  {
   "cell_type": "markdown",
   "metadata": {},
   "source": [
    "# **FILE CREATION**"
   ]
  },
  {
   "cell_type": "code",
   "execution_count": 40,
   "metadata": {},
   "outputs": [],
   "source": [
    "#sub = pd.read_csv('Sample Submission.csv')\n",
    "#sub[\"time_spent\"]=abs(ans)"
   ]
  },
  {
   "cell_type": "code",
   "execution_count": 41,
   "metadata": {},
   "outputs": [],
   "source": [
    "#sub.to_csv('subm1_xgb.csv', index=False)"
   ]
  },
  {
   "cell_type": "code",
   "execution_count": 115,
   "metadata": {},
   "outputs": [
    {
     "data": {
      "text/plain": [
       "2.002308585604138"
      ]
     },
     "execution_count": 115,
     "metadata": {},
     "output_type": "execute_result"
    }
   ],
   "source": [
    "from sklearn.linear_model import Ridge\n",
    "\n",
    "ll2=Ridge(random_state=0)\n",
    "ll2.fit(x_tr,y_tr)\n",
    "pred9=abs(ll2.predict(x_tst))\n",
    "score10=np.sqrt(mean_squared_log_error(abs(y_tst),pred9))\n",
    "score10"
   ]
  },
  {
   "cell_type": "code",
   "execution_count": 43,
   "metadata": {},
   "outputs": [],
   "source": [
    "ans = ll2.predict(test[cols])\n",
    "\n",
    "sub0 = pd.read_csv('Sample Submission.csv')\n",
    "sub0[\"time_spent\"]=abs(ans)"
   ]
  },
  {
   "cell_type": "code",
   "execution_count": 44,
   "metadata": {},
   "outputs": [],
   "source": [
    "sub0.to_csv('subm0_ridge.csv', index=False)"
   ]
  },
  {
   "cell_type": "markdown",
   "metadata": {},
   "source": [
    "# HUber"
   ]
  },
  {
   "cell_type": "code",
   "execution_count": 45,
   "metadata": {},
   "outputs": [
    {
     "data": {
      "text/plain": [
       "1.5028775360636681"
      ]
     },
     "execution_count": 45,
     "metadata": {},
     "output_type": "execute_result"
    }
   ],
   "source": [
    "from sklearn.linear_model import HuberRegressor\n",
    "reg=HuberRegressor(alpha=0.0001, epsilon=1.35, fit_intercept=True, max_iter=100,\n",
    "               tol=1e-05, warm_start=False)\n",
    "reg.fit(x_tr[cols],y_tr)\n",
    "pred00=abs(reg.predict(x_tst))\n",
    "score00=np.sqrt(mean_squared_log_error(y_tst,pred00))\n",
    "score00\n",
    "\n",
    "    "
   ]
  },
  {
   "cell_type": "code",
   "execution_count": null,
   "metadata": {},
   "outputs": [],
   "source": []
  },
  {
   "cell_type": "code",
   "execution_count": 47,
   "metadata": {},
   "outputs": [
    {
     "data": {
      "text/plain": [
       "'from sklearn.ensemble import ExtraTreesRegressor as E\\nee=E(random_state=0)\\nE.fit(,x_tr[cols],y_tr)\\npred03=abs(E.predict(x_tst))\\nscore03=np.sqrt(mean_squared_log_error(y_tst,pred03))\\nscore03'"
      ]
     },
     "execution_count": 47,
     "metadata": {},
     "output_type": "execute_result"
    }
   ],
   "source": [
    "'''from sklearn.ensemble import ExtraTreesRegressor as E\n",
    "ee=E(random_state=0)\n",
    "E.fit(,x_tr[cols],y_tr)\n",
    "pred03=abs(E.predict(x_tst))\n",
    "score03=np.sqrt(mean_squared_log_error(y_tst,pred03))\n",
    "score03'''\n"
   ]
  },
  {
   "cell_type": "code",
   "execution_count": 48,
   "metadata": {},
   "outputs": [],
   "source": [
    "ans = reg.predict(test[cols])\n",
    "\n",
    "sub02 = pd.read_csv('Sample Submission.csv')\n",
    "sub02[\"time_spent\"]=abs(ans)"
   ]
  },
  {
   "cell_type": "code",
   "execution_count": 49,
   "metadata": {},
   "outputs": [],
   "source": [
    "sub02.to_csv('subm3_huber_final.csv', index=False)"
   ]
  },
  {
   "cell_type": "code",
   "execution_count": 50,
   "metadata": {},
   "outputs": [
    {
     "data": {
      "text/plain": [
       "array([1629.49 , 1858.31 ,   65.153, ...,   25.641,  550.943, 5522.98 ])"
      ]
     },
     "execution_count": 50,
     "metadata": {},
     "output_type": "execute_result"
    }
   ],
   "source": [
    "from sklearn.linear_model import LinearRegression\n",
    "lr=LinearRegression()\n",
    "lr.fit(x_tr,y_tr)\n",
    "pred=abs(lr.predict(x_tst))\n",
    "y_tst"
   ]
  },
  {
   "cell_type": "code",
   "execution_count": 51,
   "metadata": {},
   "outputs": [
    {
     "data": {
      "text/plain": [
       "2.001676361005098"
      ]
     },
     "execution_count": 51,
     "metadata": {},
     "output_type": "execute_result"
    }
   ],
   "source": [
    "score2=np.sqrt(mean_squared_log_error(y_tst,pred))\n",
    "score2"
   ]
  },
  {
   "cell_type": "code",
   "execution_count": null,
   "metadata": {},
   "outputs": [],
   "source": []
  },
  {
   "cell_type": "code",
   "execution_count": 52,
   "metadata": {},
   "outputs": [
    {
     "data": {
      "text/plain": [
       "1.951709448715558"
      ]
     },
     "execution_count": 52,
     "metadata": {},
     "output_type": "execute_result"
    }
   ],
   "source": [
    "from sklearn.tree import DecisionTreeRegressor as D\n",
    "dt=D(random_state=0)\n",
    "dt.fit(x_tr[cols],y_tr)\n",
    "pred2=abs(dt.predict(x_tst))\n",
    "score3=np.sqrt(mean_squared_log_error(y_tst,pred2))\n",
    "score3"
   ]
  },
  {
   "cell_type": "code",
   "execution_count": 53,
   "metadata": {},
   "outputs": [
    {
     "data": {
      "text/plain": [
       "((4071, 4),)"
      ]
     },
     "execution_count": 53,
     "metadata": {},
     "output_type": "execute_result"
    }
   ],
   "source": [
    "x_tr.shape,"
   ]
  },
  {
   "cell_type": "code",
   "execution_count": 54,
   "metadata": {},
   "outputs": [
    {
     "data": {
      "text/plain": [
       "1.9077250442235145"
      ]
     },
     "execution_count": 54,
     "metadata": {},
     "output_type": "execute_result"
    }
   ],
   "source": [
    "from sklearn.ensemble import RandomForestRegressor as R\n",
    "rr=R(n_estimators=500,random_state=0)\n",
    "rr.fit(x_tr[cols],y_tr)\n",
    "pred3=abs(rr.predict(x_tst))\n",
    "score4=np.sqrt(mean_squared_log_error(y_tst,pred3))\n",
    "score4"
   ]
  },
  {
   "cell_type": "code",
   "execution_count": 55,
   "metadata": {},
   "outputs": [],
   "source": [
    "#rr.fit(X=X[cols],y=Y)\n",
    "ans = rr.predict(test[cols])\n"
   ]
  },
  {
   "cell_type": "code",
   "execution_count": 56,
   "metadata": {},
   "outputs": [],
   "source": [
    "ans = rr.predict(test[cols])\n",
    "\n",
    "sub2 = pd.read_csv('Sample Submission.csv')\n",
    "sub2[\"time_spent\"]=abs(ans)"
   ]
  },
  {
   "cell_type": "code",
   "execution_count": 57,
   "metadata": {},
   "outputs": [],
   "source": [
    "#sub2.to_csv('subm3_Rand_final2.csv', index=False)"
   ]
  },
  {
   "cell_type": "markdown",
   "metadata": {},
   "source": [
    "# SVm"
   ]
  },
  {
   "cell_type": "code",
   "execution_count": null,
   "metadata": {},
   "outputs": [],
   "source": []
  },
  {
   "cell_type": "code",
   "execution_count": 150,
   "metadata": {},
   "outputs": [
    {
     "name": "stdout",
     "output_type": "stream",
     "text": [
      "1.7824638740261802\n"
     ]
    }
   ],
   "source": [
    "from sklearn.svm import SVR as S\n",
    "ss=S(kernel='sigmoid')\n",
    "ss.fit(x_tr[cols],y_tr)\n",
    "pred4=abs(ss.predict(x_tst))\n",
    "score5=np.sqrt(mean_squared_log_error(y_tst,pred4))\n",
    "print(score5)"
   ]
  },
  {
   "cell_type": "code",
   "execution_count": 154,
   "metadata": {},
   "outputs": [],
   "source": [
    "ans = ss.predict(test[cols])\n",
    "\n",
    "sub003 = pd.read_csv('Sample Submission.csv')\n",
    "sub003[\"time_spent\"]=abs(ans)"
   ]
  },
  {
   "cell_type": "code",
   "execution_count": 155,
   "metadata": {},
   "outputs": [],
   "source": [
    "sub003.to_csv('subm03_svm16.csv', index=False)"
   ]
  },
  {
   "cell_type": "code",
   "execution_count": 151,
   "metadata": {},
   "outputs": [
    {
     "data": {
      "text/plain": [
       "-0.12136362647121077"
      ]
     },
     "execution_count": 151,
     "metadata": {},
     "output_type": "execute_result"
    }
   ],
   "source": [
    "from sklearn.model_selection import GridSearchCV\n",
    "\n",
    "para=[{'kernel':['sigmoid'],'gamma':[5,6,7,8,9,10]}]\n",
    "grid=GridSearchCV(ss,param_grid=para,cv=10,n_jobs=-1)\n",
    "grid.fit(x_tr[cols],y_tr)\n",
    "grid.best_score_ "
   ]
  },
  {
   "cell_type": "code",
   "execution_count": 153,
   "metadata": {},
   "outputs": [
    {
     "data": {
      "text/plain": [
       "1.7865169951925675"
      ]
     },
     "execution_count": 153,
     "metadata": {},
     "output_type": "execute_result"
    }
   ],
   "source": [
    "pred01=abs(grid.predict(x_tst))\n",
    "score5=np.sqrt(mean_squared_log_error(y_tst,pred01))\n",
    "score5"
   ]
  },
  {
   "cell_type": "code",
   "execution_count": 141,
   "metadata": {},
   "outputs": [],
   "source": [
    "ans = grid.predict(test[cols])\n",
    "\n",
    "sub004 = pd.read_csv('Sample Submission.csv')\n",
    "sub004[\"time_spent\"]=abs(ans)\n",
    "sub004.to_csv('subm04_svm004.csv', index=False)"
   ]
  },
  {
   "cell_type": "code",
   "execution_count": 61,
   "metadata": {},
   "outputs": [
    {
     "data": {
      "text/plain": [
       "-0.11889125616534871"
      ]
     },
     "execution_count": 61,
     "metadata": {},
     "output_type": "execute_result"
    }
   ],
   "source": [
    "'''from sklearn.model_selection import GridSearchCV\n",
    "\n",
    "para=[{'kernel':['rbf'],'gamma':[0.1,0.2,0.3,0.4,0.5,0.6,0.7,0.8,0.9,0.21]}]\n",
    "grid=GridSearchCV(ss,param_grid=para,cv=10,n_jobs=-1)\n",
    "grid.fit(x_tr[cols],y_tr)\n",
    "grid.best_score_ '''"
   ]
  },
  {
   "cell_type": "code",
   "execution_count": 62,
   "metadata": {},
   "outputs": [
    {
     "data": {
      "text/plain": [
       "1.7545269057858763"
      ]
     },
     "execution_count": 62,
     "metadata": {},
     "output_type": "execute_result"
    }
   ],
   "source": [
    "'''pred01=abs(grid.predict(x_tst))\n",
    "score5=np.sqrt(mean_squared_log_error(y_tst,pred01))\n",
    "score5'''"
   ]
  },
  {
   "cell_type": "code",
   "execution_count": 63,
   "metadata": {},
   "outputs": [],
   "source": [
    "'''ans = grid.predict(test[cols])\n",
    "\n",
    "sub001 = pd.read_csv('Sample Submission.csv')\n",
    "sub001[\"time_spent\"]=abs(ans)'''"
   ]
  },
  {
   "cell_type": "code",
   "execution_count": 64,
   "metadata": {},
   "outputs": [],
   "source": [
    "sub001.to_csv('subm01_svm26.csv', index=False)"
   ]
  },
  {
   "cell_type": "code",
   "execution_count": 65,
   "metadata": {},
   "outputs": [],
   "source": [
    "ans = ss.predict(test[cols])\n",
    "\n",
    "sub3 = pd.read_csv('Sample Submission.csv')\n",
    "sub3[\"time_spent\"]=abs(ans)"
   ]
  },
  {
   "cell_type": "code",
   "execution_count": 66,
   "metadata": {},
   "outputs": [],
   "source": [
    "sub3.to_csv('subm3_svm3.csv', index=False)"
   ]
  },
  {
   "cell_type": "code",
   "execution_count": 67,
   "metadata": {},
   "outputs": [],
   "source": [
    "sub3.to_csv('subm3_svm001.csv', index=False)"
   ]
  },
  {
   "cell_type": "code",
   "execution_count": 68,
   "metadata": {},
   "outputs": [
    {
     "data": {
      "text/plain": [
       "1.9522265514243087"
      ]
     },
     "execution_count": 68,
     "metadata": {},
     "output_type": "execute_result"
    }
   ],
   "source": [
    "from sklearn.ensemble import GradientBoostingRegressor\n",
    "\n",
    "gbm= GradientBoostingRegressor(alpha=0.9, ccp_alpha=0.0, criterion='friedman_mse',\n",
    "                          init=None, learning_rate=0.1, loss='ls', max_depth=3,\n",
    "                          max_features=None, max_leaf_nodes=None,\n",
    "                          min_impurity_decrease=0.0, min_impurity_split=None,\n",
    "                          min_samples_leaf=1, min_samples_split=2,\n",
    "                          min_weight_fraction_leaf=0.0, n_estimators=100,\n",
    "                          n_iter_no_change=None, presort='deprecated',\n",
    "                          random_state=123, subsample=1.0, tol=0.0001,\n",
    "                          validation_fraction=0.1, verbose=0, warm_start=False)\n",
    "gbm.fit(x_tr[cols],y_tr)\n",
    "pred5=abs(gbm.predict(x_tst))\n",
    "score6=np.sqrt(mean_squared_log_error(y_tst,pred5))\n",
    "score6\n",
    "\n"
   ]
  },
  {
   "cell_type": "code",
   "execution_count": 69,
   "metadata": {},
   "outputs": [],
   "source": [
    "import lightgbm as lgb \n"
   ]
  },
  {
   "cell_type": "code",
   "execution_count": 70,
   "metadata": {},
   "outputs": [],
   "source": [
    "#!pip install lightgbm"
   ]
  },
  {
   "cell_type": "code",
   "execution_count": 71,
   "metadata": {},
   "outputs": [],
   "source": [
    "import lightgbm as lgb \n"
   ]
  },
  {
   "cell_type": "code",
   "execution_count": 72,
   "metadata": {},
   "outputs": [
    {
     "data": {
      "text/plain": [
       "1.9282994010867174"
      ]
     },
     "execution_count": 72,
     "metadata": {},
     "output_type": "execute_result"
    }
   ],
   "source": [
    "ll=lgb.LGBMRegressor(n_estimators=100,random_state=0)\n",
    "ll.fit(x_tr[cols],y_tr)\n",
    "pred6=abs(ll.predict(x_tst))\n",
    "score7=np.sqrt(mean_squared_log_error(y_tst,pred6))\n",
    "score7"
   ]
  },
  {
   "cell_type": "code",
   "execution_count": 73,
   "metadata": {},
   "outputs": [],
   "source": [
    "ans = ll.predict(test[cols])\n",
    "\n",
    "sub3 = pd.read_csv('Sample Submission.csv')\n",
    "sub3[\"time_spent\"]=abs(ans)"
   ]
  },
  {
   "cell_type": "code",
   "execution_count": 74,
   "metadata": {},
   "outputs": [],
   "source": [
    "sub3.to_csv('subm3_light.csv', index=False)"
   ]
  },
  {
   "cell_type": "code",
   "execution_count": 75,
   "metadata": {},
   "outputs": [],
   "source": [
    "#!pip install catboost"
   ]
  },
  {
   "cell_type": "code",
   "execution_count": 76,
   "metadata": {
    "scrolled": false
   },
   "outputs": [
    {
     "name": "stdout",
     "output_type": "stream",
     "text": [
      "0:\tlearn: 1760.4885066\ttotal: 154ms\tremaining: 15.2s\n",
      "1:\tlearn: 1742.4830765\ttotal: 159ms\tremaining: 7.78s\n",
      "2:\tlearn: 1726.6926638\ttotal: 163ms\tremaining: 5.28s\n",
      "3:\tlearn: 1708.5885216\ttotal: 168ms\tremaining: 4.04s\n",
      "4:\tlearn: 1697.2846801\ttotal: 173ms\tremaining: 3.29s\n",
      "5:\tlearn: 1688.0295389\ttotal: 180ms\tremaining: 2.82s\n",
      "6:\tlearn: 1680.9302851\ttotal: 182ms\tremaining: 2.42s\n",
      "7:\tlearn: 1675.6185360\ttotal: 184ms\tremaining: 2.12s\n",
      "8:\tlearn: 1664.9842576\ttotal: 186ms\tremaining: 1.88s\n",
      "9:\tlearn: 1661.5247733\ttotal: 188ms\tremaining: 1.69s\n",
      "10:\tlearn: 1656.4667037\ttotal: 190ms\tremaining: 1.54s\n",
      "11:\tlearn: 1647.8820152\ttotal: 193ms\tremaining: 1.41s\n",
      "12:\tlearn: 1643.6564810\ttotal: 195ms\tremaining: 1.3s\n",
      "13:\tlearn: 1639.4717390\ttotal: 197ms\tremaining: 1.21s\n",
      "14:\tlearn: 1634.4227559\ttotal: 200ms\tremaining: 1.13s\n",
      "15:\tlearn: 1631.8234108\ttotal: 203ms\tremaining: 1.06s\n",
      "16:\tlearn: 1625.7162225\ttotal: 208ms\tremaining: 1.01s\n",
      "17:\tlearn: 1623.4970525\ttotal: 211ms\tremaining: 960ms\n",
      "18:\tlearn: 1622.1502260\ttotal: 213ms\tremaining: 910ms\n",
      "19:\tlearn: 1615.8208962\ttotal: 216ms\tremaining: 864ms\n",
      "20:\tlearn: 1614.1476775\ttotal: 218ms\tremaining: 822ms\n",
      "21:\tlearn: 1612.6124365\ttotal: 221ms\tremaining: 783ms\n",
      "22:\tlearn: 1606.6630735\ttotal: 224ms\tremaining: 748ms\n",
      "23:\tlearn: 1602.8880443\ttotal: 226ms\tremaining: 716ms\n",
      "24:\tlearn: 1601.9080023\ttotal: 228ms\tremaining: 685ms\n",
      "25:\tlearn: 1599.7732614\ttotal: 231ms\tremaining: 657ms\n",
      "26:\tlearn: 1594.3686275\ttotal: 237ms\tremaining: 641ms\n",
      "27:\tlearn: 1591.0766404\ttotal: 239ms\tremaining: 615ms\n",
      "28:\tlearn: 1590.2556370\ttotal: 242ms\tremaining: 592ms\n",
      "29:\tlearn: 1586.1598529\ttotal: 244ms\tremaining: 570ms\n",
      "30:\tlearn: 1585.6009398\ttotal: 247ms\tremaining: 549ms\n",
      "31:\tlearn: 1583.8169771\ttotal: 249ms\tremaining: 529ms\n",
      "32:\tlearn: 1583.1974003\ttotal: 251ms\tremaining: 510ms\n",
      "33:\tlearn: 1578.2677010\ttotal: 253ms\tremaining: 491ms\n",
      "34:\tlearn: 1573.4241687\ttotal: 255ms\tremaining: 474ms\n",
      "35:\tlearn: 1569.4074677\ttotal: 257ms\tremaining: 458ms\n",
      "36:\tlearn: 1568.9664316\ttotal: 260ms\tremaining: 442ms\n",
      "37:\tlearn: 1565.2680097\ttotal: 262ms\tremaining: 427ms\n",
      "38:\tlearn: 1564.8937392\ttotal: 264ms\tremaining: 413ms\n",
      "39:\tlearn: 1564.5583116\ttotal: 266ms\tremaining: 399ms\n",
      "40:\tlearn: 1561.4331415\ttotal: 268ms\tremaining: 386ms\n",
      "41:\tlearn: 1560.3337706\ttotal: 270ms\tremaining: 373ms\n",
      "42:\tlearn: 1560.0484118\ttotal: 273ms\tremaining: 362ms\n",
      "43:\tlearn: 1559.4117910\ttotal: 275ms\tremaining: 350ms\n",
      "44:\tlearn: 1558.9322971\ttotal: 277ms\tremaining: 339ms\n",
      "45:\tlearn: 1558.6893192\ttotal: 279ms\tremaining: 328ms\n",
      "46:\tlearn: 1558.5521950\ttotal: 282ms\tremaining: 318ms\n",
      "47:\tlearn: 1554.9015727\ttotal: 285ms\tremaining: 308ms\n",
      "48:\tlearn: 1552.1503780\ttotal: 287ms\tremaining: 299ms\n",
      "49:\tlearn: 1551.4336587\ttotal: 289ms\tremaining: 289ms\n",
      "50:\tlearn: 1548.7769953\ttotal: 292ms\tremaining: 280ms\n",
      "51:\tlearn: 1548.5406838\ttotal: 294ms\tremaining: 272ms\n",
      "52:\tlearn: 1548.4508807\ttotal: 297ms\tremaining: 263ms\n",
      "53:\tlearn: 1547.9595793\ttotal: 299ms\tremaining: 255ms\n",
      "54:\tlearn: 1545.4908846\ttotal: 302ms\tremaining: 247ms\n",
      "55:\tlearn: 1545.0205787\ttotal: 304ms\tremaining: 239ms\n",
      "56:\tlearn: 1542.6983539\ttotal: 307ms\tremaining: 231ms\n",
      "57:\tlearn: 1542.5323147\ttotal: 309ms\tremaining: 224ms\n",
      "58:\tlearn: 1540.1369371\ttotal: 314ms\tremaining: 218ms\n",
      "59:\tlearn: 1539.9527313\ttotal: 316ms\tremaining: 211ms\n",
      "60:\tlearn: 1539.7051650\ttotal: 318ms\tremaining: 204ms\n",
      "61:\tlearn: 1539.6891090\ttotal: 320ms\tremaining: 196ms\n",
      "62:\tlearn: 1539.4282432\ttotal: 323ms\tremaining: 190ms\n",
      "63:\tlearn: 1538.8738447\ttotal: 325ms\tremaining: 183ms\n",
      "64:\tlearn: 1538.8621657\ttotal: 327ms\tremaining: 176ms\n",
      "65:\tlearn: 1538.1020493\ttotal: 330ms\tremaining: 170ms\n",
      "66:\tlearn: 1537.4604116\ttotal: 332ms\tremaining: 164ms\n",
      "67:\tlearn: 1537.0787731\ttotal: 335ms\tremaining: 157ms\n",
      "68:\tlearn: 1537.0123839\ttotal: 339ms\tremaining: 152ms\n",
      "69:\tlearn: 1536.3657038\ttotal: 341ms\tremaining: 146ms\n",
      "70:\tlearn: 1534.5952221\ttotal: 344ms\tremaining: 140ms\n",
      "71:\tlearn: 1532.7821976\ttotal: 346ms\tremaining: 135ms\n",
      "72:\tlearn: 1530.6252312\ttotal: 349ms\tremaining: 129ms\n",
      "73:\tlearn: 1530.4024613\ttotal: 351ms\tremaining: 123ms\n",
      "74:\tlearn: 1528.8319919\ttotal: 353ms\tremaining: 118ms\n",
      "75:\tlearn: 1526.8479361\ttotal: 356ms\tremaining: 112ms\n",
      "76:\tlearn: 1526.6419073\ttotal: 358ms\tremaining: 107ms\n",
      "77:\tlearn: 1525.9847241\ttotal: 361ms\tremaining: 102ms\n",
      "78:\tlearn: 1525.7242342\ttotal: 363ms\tremaining: 96.6ms\n",
      "79:\tlearn: 1524.3583633\ttotal: 366ms\tremaining: 91.5ms\n",
      "80:\tlearn: 1522.9877011\ttotal: 369ms\tremaining: 86.5ms\n",
      "81:\tlearn: 1521.8253828\ttotal: 372ms\tremaining: 81.6ms\n",
      "82:\tlearn: 1521.5903309\ttotal: 374ms\tremaining: 76.7ms\n",
      "83:\tlearn: 1520.4456206\ttotal: 377ms\tremaining: 71.8ms\n",
      "84:\tlearn: 1519.8440428\ttotal: 380ms\tremaining: 67ms\n",
      "85:\tlearn: 1519.7613683\ttotal: 382ms\tremaining: 62.2ms\n",
      "86:\tlearn: 1518.7981817\ttotal: 385ms\tremaining: 57.5ms\n",
      "87:\tlearn: 1518.4922401\ttotal: 387ms\tremaining: 52.8ms\n",
      "88:\tlearn: 1517.3214933\ttotal: 389ms\tremaining: 48.1ms\n",
      "89:\tlearn: 1516.8112493\ttotal: 391ms\tremaining: 43.5ms\n",
      "90:\tlearn: 1516.7393783\ttotal: 394ms\tremaining: 38.9ms\n",
      "91:\tlearn: 1516.1430621\ttotal: 398ms\tremaining: 34.6ms\n",
      "92:\tlearn: 1515.6307796\ttotal: 400ms\tremaining: 30.1ms\n",
      "93:\tlearn: 1515.3936982\ttotal: 403ms\tremaining: 25.7ms\n",
      "94:\tlearn: 1515.1835387\ttotal: 405ms\tremaining: 21.3ms\n",
      "95:\tlearn: 1513.4762591\ttotal: 408ms\tremaining: 17ms\n",
      "96:\tlearn: 1513.2968550\ttotal: 410ms\tremaining: 12.7ms\n",
      "97:\tlearn: 1511.6973057\ttotal: 414ms\tremaining: 8.45ms\n",
      "98:\tlearn: 1510.8857380\ttotal: 416ms\tremaining: 4.2ms\n",
      "99:\tlearn: 1509.3835215\ttotal: 418ms\tremaining: 0us\n"
     ]
    },
    {
     "data": {
      "text/plain": [
       "1.9795551232313375"
      ]
     },
     "execution_count": 76,
     "metadata": {},
     "output_type": "execute_result"
    }
   ],
   "source": [
    "from catboost import CatBoostRegressor as cat\n",
    "\n",
    "cc= cat(iterations=100, depth=3, learning_rate=0.1, loss_function='RMSE')\n",
    "cc.fit(x_tr[cols],y_tr)\n",
    "pred7=abs(cc.predict(x_tst))\n",
    "score8=np.sqrt(mean_squared_log_error(y_tst,pred7))\n",
    "score8 \n"
   ]
  },
  {
   "cell_type": "code",
   "execution_count": 77,
   "metadata": {},
   "outputs": [
    {
     "data": {
      "text/plain": [
       "'cc.fit(X=X[cols],y=Y)\\n\\nans = cc.predict(test[cols])\\n\\nsub4 = pd.read_csv(\\'Sample Submission.csv\\')\\nsub4[\"time_spent\"]=abs(ans)'"
      ]
     },
     "execution_count": 77,
     "metadata": {},
     "output_type": "execute_result"
    }
   ],
   "source": [
    "'''cc.fit(X=X[cols],y=Y)\n",
    "\n",
    "ans = cc.predict(test[cols])\n",
    "\n",
    "sub4 = pd.read_csv('Sample Submission.csv')\n",
    "sub4[\"time_spent\"]=abs(ans)'''"
   ]
  },
  {
   "cell_type": "code",
   "execution_count": 78,
   "metadata": {},
   "outputs": [],
   "source": [
    "#sub4.to_csv('subm4_cat2.csv', index=False)"
   ]
  },
  {
   "cell_type": "code",
   "execution_count": 79,
   "metadata": {},
   "outputs": [
    {
     "data": {
      "text/plain": [
       "2.612471391753135"
      ]
     },
     "execution_count": 79,
     "metadata": {},
     "output_type": "execute_result"
    }
   ],
   "source": [
    "from sklearn.ensemble import AdaBoostRegressor as gr\n",
    "gg= gr(n_estimators=100,random_state=0)\n",
    "gg.fit(x_tr[cols],y_tr)\n",
    "pred8=abs(gg.predict(x_tst))\n",
    "score9=np.sqrt(mean_squared_log_error(y_tst,pred8))\n",
    "score9 \n",
    "\n",
    "\n"
   ]
  },
  {
   "cell_type": "code",
   "execution_count": null,
   "metadata": {},
   "outputs": [],
   "source": []
  },
  {
   "cell_type": "code",
   "execution_count": 80,
   "metadata": {},
   "outputs": [
    {
     "data": {
      "text/plain": [
       "2.3700570562725725"
      ]
     },
     "execution_count": 80,
     "metadata": {},
     "output_type": "execute_result"
    }
   ],
   "source": [
    "from sklearn.linear_model import BayesianRidge\n",
    "bb= BayesianRidge()\n",
    "bb.fit(x_tr[cols],y_tr)\n",
    "pred10=abs(bb.predict(x_tst))\n",
    "score11=np.sqrt(mean_squared_log_error(y_tst,pred10))\n",
    "score11"
   ]
  },
  {
   "cell_type": "code",
   "execution_count": null,
   "metadata": {},
   "outputs": [],
   "source": []
  },
  {
   "cell_type": "code",
   "execution_count": 81,
   "metadata": {},
   "outputs": [
    {
     "data": {
      "text/plain": [
       "2.2965721525580514"
      ]
     },
     "execution_count": 81,
     "metadata": {},
     "output_type": "execute_result"
    }
   ],
   "source": [
    "from sklearn.linear_model import ElasticNet\n",
    "g= ElasticNet()\n",
    "g.fit(x_tr[cols],y_tr)\n",
    "pred11=abs(g.predict(x_tst))\n",
    "score12=np.sqrt(mean_squared_log_error(y_tst,pred11))\n",
    "score12"
   ]
  },
  {
   "cell_type": "code",
   "execution_count": 82,
   "metadata": {},
   "outputs": [
    {
     "data": {
      "text/plain": [
       "2.002308585604138"
      ]
     },
     "execution_count": 82,
     "metadata": {},
     "output_type": "execute_result"
    }
   ],
   "source": [
    "from sklearn.linear_model import Ridge\n",
    "\n",
    "ll2=Ridge(random_state=0)\n",
    "ll2.fit(x_tr[cols],y_tr)\n",
    "pred9=abs(ll2.predict(x_tst))\n",
    "score10=np.sqrt(mean_squared_log_error(y_tst,pred9))\n",
    "score10\n"
   ]
  },
  {
   "cell_type": "code",
   "execution_count": 83,
   "metadata": {},
   "outputs": [
    {
     "data": {
      "text/plain": [
       "array([9.99999865e-01, 6.89739165e-08])"
      ]
     },
     "execution_count": 83,
     "metadata": {},
     "output_type": "execute_result"
    }
   ],
   "source": [
    "from sklearn.decomposition import PCA\n",
    "\n",
    "pca = PCA(n_components=2)\n",
    "pca.fit(x_tr[cols])\n",
    "pca.explained_variance_ratio_"
   ]
  },
  {
   "cell_type": "code",
   "execution_count": null,
   "metadata": {},
   "outputs": [],
   "source": []
  },
  {
   "cell_type": "code",
   "execution_count": 84,
   "metadata": {},
   "outputs": [
    {
     "name": "stdout",
     "output_type": "stream",
     "text": [
      "2.2108347042256153\n"
     ]
    }
   ],
   "source": [
    "from mlxtend.regressor import StackingCVRegressor\n",
    "stack= StackingCVRegressor(regressors=(ss,rr),meta_regressor=ll2)\n",
    "stack.fit(x_tr[cols],y_tr)\n",
    "pred12=abs(stack.predict(x_tst))\n",
    "score13=np.sqrt(mean_squared_log_error(y_tst,pred12))\n",
    "print(score13)\n",
    "\n"
   ]
  },
  {
   "cell_type": "code",
   "execution_count": 85,
   "metadata": {},
   "outputs": [
    {
     "data": {
      "text/plain": [
       "'from mlxtend.regressor import StackingCVRegressor\\nstack2= StackingCVRegressor(regressors=(stack,rr,dt,gg),meta_regressor=ss)\\nstack2.fit(x_tr[cols],y_tr)\\npred13=abs(stack2.predict(x_tst))\\nscore14=np.sqrt(mean_squared_log_error(y_tst,pred13))\\nscore14'"
      ]
     },
     "execution_count": 85,
     "metadata": {},
     "output_type": "execute_result"
    }
   ],
   "source": [
    "'''from mlxtend.regressor import StackingCVRegressor\n",
    "stack2= StackingCVRegressor(regressors=(stack,rr,dt,gg),meta_regressor=ss)\n",
    "stack2.fit(x_tr[cols],y_tr)\n",
    "pred13=abs(stack2.predict(x_tst))\n",
    "score14=np.sqrt(mean_squared_log_error(y_tst,pred13))\n",
    "score14'''"
   ]
  },
  {
   "cell_type": "code",
   "execution_count": 86,
   "metadata": {},
   "outputs": [],
   "source": [
    "\n",
    "ans = stack.predict(test[cols])\n",
    "\n",
    "sub6 = pd.read_csv('Sample Submission.csv')\n",
    "sub6[\"time_spent\"]=abs(ans)"
   ]
  },
  {
   "cell_type": "code",
   "execution_count": 87,
   "metadata": {},
   "outputs": [],
   "source": [
    "sub6.to_csv('subm3_stack123.csv', index=False)"
   ]
  },
  {
   "cell_type": "code",
   "execution_count": null,
   "metadata": {},
   "outputs": [],
   "source": []
  },
  {
   "cell_type": "code",
   "execution_count": 88,
   "metadata": {},
   "outputs": [
    {
     "ename": "ValueError",
     "evalue": "Found input variables with inconsistent numbers of samples: [1358, 2327]",
     "output_type": "error",
     "traceback": [
      "\u001b[1;31m---------------------------------------------------------------------------\u001b[0m",
      "\u001b[1;31mValueError\u001b[0m                                Traceback (most recent call last)",
      "\u001b[1;32m<ipython-input-88-f3db567b52fe>\u001b[0m in \u001b[0;36m<module>\u001b[1;34m\u001b[0m\n\u001b[1;32m----> 1\u001b[1;33m \u001b[0mscore13\u001b[0m\u001b[1;33m=\u001b[0m\u001b[0mnp\u001b[0m\u001b[1;33m.\u001b[0m\u001b[0msqrt\u001b[0m\u001b[1;33m(\u001b[0m\u001b[0mmean_squared_log_error\u001b[0m\u001b[1;33m(\u001b[0m\u001b[0my_tst\u001b[0m\u001b[1;33m,\u001b[0m\u001b[0mans\u001b[0m\u001b[1;33m)\u001b[0m\u001b[1;33m)\u001b[0m\u001b[1;33m\u001b[0m\u001b[1;33m\u001b[0m\u001b[0m\n\u001b[0m\u001b[0;32m      2\u001b[0m \u001b[0mscore13\u001b[0m\u001b[1;33m\u001b[0m\u001b[1;33m\u001b[0m\u001b[0m\n",
      "\u001b[1;32m~\\anaconda3_2020\\lib\\site-packages\\sklearn\\utils\\validation.py\u001b[0m in \u001b[0;36minner_f\u001b[1;34m(*args, **kwargs)\u001b[0m\n\u001b[0;32m     70\u001b[0m                           FutureWarning)\n\u001b[0;32m     71\u001b[0m         \u001b[0mkwargs\u001b[0m\u001b[1;33m.\u001b[0m\u001b[0mupdate\u001b[0m\u001b[1;33m(\u001b[0m\u001b[1;33m{\u001b[0m\u001b[0mk\u001b[0m\u001b[1;33m:\u001b[0m \u001b[0marg\u001b[0m \u001b[1;32mfor\u001b[0m \u001b[0mk\u001b[0m\u001b[1;33m,\u001b[0m \u001b[0marg\u001b[0m \u001b[1;32min\u001b[0m \u001b[0mzip\u001b[0m\u001b[1;33m(\u001b[0m\u001b[0msig\u001b[0m\u001b[1;33m.\u001b[0m\u001b[0mparameters\u001b[0m\u001b[1;33m,\u001b[0m \u001b[0margs\u001b[0m\u001b[1;33m)\u001b[0m\u001b[1;33m}\u001b[0m\u001b[1;33m)\u001b[0m\u001b[1;33m\u001b[0m\u001b[1;33m\u001b[0m\u001b[0m\n\u001b[1;32m---> 72\u001b[1;33m         \u001b[1;32mreturn\u001b[0m \u001b[0mf\u001b[0m\u001b[1;33m(\u001b[0m\u001b[1;33m**\u001b[0m\u001b[0mkwargs\u001b[0m\u001b[1;33m)\u001b[0m\u001b[1;33m\u001b[0m\u001b[1;33m\u001b[0m\u001b[0m\n\u001b[0m\u001b[0;32m     73\u001b[0m     \u001b[1;32mreturn\u001b[0m \u001b[0minner_f\u001b[0m\u001b[1;33m\u001b[0m\u001b[1;33m\u001b[0m\u001b[0m\n\u001b[0;32m     74\u001b[0m \u001b[1;33m\u001b[0m\u001b[0m\n",
      "\u001b[1;32m~\\anaconda3_2020\\lib\\site-packages\\sklearn\\metrics\\_regression.py\u001b[0m in \u001b[0;36mmean_squared_log_error\u001b[1;34m(y_true, y_pred, sample_weight, multioutput)\u001b[0m\n\u001b[0;32m    328\u001b[0m     \"\"\"\n\u001b[0;32m    329\u001b[0m     y_type, y_true, y_pred, multioutput = _check_reg_targets(\n\u001b[1;32m--> 330\u001b[1;33m         y_true, y_pred, multioutput)\n\u001b[0m\u001b[0;32m    331\u001b[0m     \u001b[0mcheck_consistent_length\u001b[0m\u001b[1;33m(\u001b[0m\u001b[0my_true\u001b[0m\u001b[1;33m,\u001b[0m \u001b[0my_pred\u001b[0m\u001b[1;33m,\u001b[0m \u001b[0msample_weight\u001b[0m\u001b[1;33m)\u001b[0m\u001b[1;33m\u001b[0m\u001b[1;33m\u001b[0m\u001b[0m\n\u001b[0;32m    332\u001b[0m \u001b[1;33m\u001b[0m\u001b[0m\n",
      "\u001b[1;32m~\\anaconda3_2020\\lib\\site-packages\\sklearn\\metrics\\_regression.py\u001b[0m in \u001b[0;36m_check_reg_targets\u001b[1;34m(y_true, y_pred, multioutput, dtype)\u001b[0m\n\u001b[0;32m     82\u001b[0m \u001b[1;33m\u001b[0m\u001b[0m\n\u001b[0;32m     83\u001b[0m     \"\"\"\n\u001b[1;32m---> 84\u001b[1;33m     \u001b[0mcheck_consistent_length\u001b[0m\u001b[1;33m(\u001b[0m\u001b[0my_true\u001b[0m\u001b[1;33m,\u001b[0m \u001b[0my_pred\u001b[0m\u001b[1;33m)\u001b[0m\u001b[1;33m\u001b[0m\u001b[1;33m\u001b[0m\u001b[0m\n\u001b[0m\u001b[0;32m     85\u001b[0m     \u001b[0my_true\u001b[0m \u001b[1;33m=\u001b[0m \u001b[0mcheck_array\u001b[0m\u001b[1;33m(\u001b[0m\u001b[0my_true\u001b[0m\u001b[1;33m,\u001b[0m \u001b[0mensure_2d\u001b[0m\u001b[1;33m=\u001b[0m\u001b[1;32mFalse\u001b[0m\u001b[1;33m,\u001b[0m \u001b[0mdtype\u001b[0m\u001b[1;33m=\u001b[0m\u001b[0mdtype\u001b[0m\u001b[1;33m)\u001b[0m\u001b[1;33m\u001b[0m\u001b[1;33m\u001b[0m\u001b[0m\n\u001b[0;32m     86\u001b[0m     \u001b[0my_pred\u001b[0m \u001b[1;33m=\u001b[0m \u001b[0mcheck_array\u001b[0m\u001b[1;33m(\u001b[0m\u001b[0my_pred\u001b[0m\u001b[1;33m,\u001b[0m \u001b[0mensure_2d\u001b[0m\u001b[1;33m=\u001b[0m\u001b[1;32mFalse\u001b[0m\u001b[1;33m,\u001b[0m \u001b[0mdtype\u001b[0m\u001b[1;33m=\u001b[0m\u001b[0mdtype\u001b[0m\u001b[1;33m)\u001b[0m\u001b[1;33m\u001b[0m\u001b[1;33m\u001b[0m\u001b[0m\n",
      "\u001b[1;32m~\\anaconda3_2020\\lib\\site-packages\\sklearn\\utils\\validation.py\u001b[0m in \u001b[0;36mcheck_consistent_length\u001b[1;34m(*arrays)\u001b[0m\n\u001b[0;32m    254\u001b[0m     \u001b[1;32mif\u001b[0m \u001b[0mlen\u001b[0m\u001b[1;33m(\u001b[0m\u001b[0muniques\u001b[0m\u001b[1;33m)\u001b[0m \u001b[1;33m>\u001b[0m \u001b[1;36m1\u001b[0m\u001b[1;33m:\u001b[0m\u001b[1;33m\u001b[0m\u001b[1;33m\u001b[0m\u001b[0m\n\u001b[0;32m    255\u001b[0m         raise ValueError(\"Found input variables with inconsistent numbers of\"\n\u001b[1;32m--> 256\u001b[1;33m                          \" samples: %r\" % [int(l) for l in lengths])\n\u001b[0m\u001b[0;32m    257\u001b[0m \u001b[1;33m\u001b[0m\u001b[0m\n\u001b[0;32m    258\u001b[0m \u001b[1;33m\u001b[0m\u001b[0m\n",
      "\u001b[1;31mValueError\u001b[0m: Found input variables with inconsistent numbers of samples: [1358, 2327]"
     ]
    }
   ],
   "source": [
    "score13=np.sqrt(mean_squared_log_error(y_tst,ans))\n",
    "score13"
   ]
  },
  {
   "cell_type": "code",
   "execution_count": null,
   "metadata": {},
   "outputs": [],
   "source": []
  },
  {
   "cell_type": "code",
   "execution_count": null,
   "metadata": {},
   "outputs": [],
   "source": []
  },
  {
   "cell_type": "code",
   "execution_count": 160,
   "metadata": {},
   "outputs": [
    {
     "name": "stdout",
     "output_type": "stream",
     "text": [
      "Collecting torch\n",
      "  Downloading torch-1.7.1-cp37-cp37m-win_amd64.whl (184.1 MB)\n",
      "Collecting typing-extensions\n",
      "  Downloading typing_extensions-3.7.4.3-py3-none-any.whl (22 kB)\n",
      "Requirement already satisfied: numpy in c:\\users\\nkdhe\\anaconda3_2020\\lib\\site-packages (from torch) (1.18.1)\n",
      "Installing collected packages: typing-extensions, torch\n",
      "Successfully installed torch-1.7.1 typing-extensions-3.7.4.3\n"
     ]
    }
   ],
   "source": [
    "! pip install torch\n"
   ]
  },
  {
   "cell_type": "code",
   "execution_count": 159,
   "metadata": {},
   "outputs": [
    {
     "ename": "ModuleNotFoundError",
     "evalue": "No module named 'torch'",
     "output_type": "error",
     "traceback": [
      "\u001b[1;31m---------------------------------------------------------------------------\u001b[0m",
      "\u001b[1;31mModuleNotFoundError\u001b[0m                       Traceback (most recent call last)",
      "\u001b[1;32m<ipython-input-159-eb42ca6e4af3>\u001b[0m in \u001b[0;36m<module>\u001b[1;34m\u001b[0m\n\u001b[1;32m----> 1\u001b[1;33m \u001b[1;32mimport\u001b[0m \u001b[0mtorch\u001b[0m\u001b[1;33m\u001b[0m\u001b[1;33m\u001b[0m\u001b[0m\n\u001b[0m",
      "\u001b[1;31mModuleNotFoundError\u001b[0m: No module named 'torch'"
     ]
    }
   ],
   "source": [
    "import torch"
   ]
  },
  {
   "cell_type": "code",
   "execution_count": null,
   "metadata": {},
   "outputs": [],
   "source": []
  }
 ],
 "metadata": {
  "kernelspec": {
   "display_name": "Python 3",
   "language": "python",
   "name": "python3"
  },
  "language_info": {
   "codemirror_mode": {
    "name": "ipython",
    "version": 3
   },
   "file_extension": ".py",
   "mimetype": "text/x-python",
   "name": "python",
   "nbconvert_exporter": "python",
   "pygments_lexer": "ipython3",
   "version": "3.7.6"
  }
 },
 "nbformat": 4,
 "nbformat_minor": 4
 
}
